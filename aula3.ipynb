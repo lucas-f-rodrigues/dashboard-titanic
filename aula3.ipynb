{
 "cells": [
  {
   "cell_type": "code",
   "execution_count": 1,
   "id": "41a9f11b",
   "metadata": {},
   "outputs": [],
   "source": [
    "import pandas as pd\n",
    "import streamlit as st\n",
    "import plotly.express as px"
   ]
  },
  {
   "cell_type": "code",
   "execution_count": 14,
   "id": "143a8eb4",
   "metadata": {},
   "outputs": [
    {
     "data": {
      "text/plain": [
       "pclass       100.000000\n",
       "survived     100.000000\n",
       "name         100.000000\n",
       "sex          100.000000\n",
       "age           79.908327\n",
       "sibsp        100.000000\n",
       "parch        100.000000\n",
       "ticket       100.000000\n",
       "fare          99.923606\n",
       "cabin         22.536287\n",
       "embarked      99.847212\n",
       "boat          37.127578\n",
       "body           9.243697\n",
       "home.dest     56.913675\n",
       "dtype: float64"
      ]
     },
     "execution_count": 14,
     "metadata": {},
     "output_type": "execute_result"
    }
   ],
   "source": [
    "# Carregar os nossos datasets\n",
    "df_acidentes = pd.read_csv(\"./titanic3.csv\", sep=\";\")\n",
    "# display(df_acidentes.describe().survived)\n",
    "df_acidentes.count() * 100 / 1309"
   ]
  }
 ],
 "metadata": {
  "kernelspec": {
   "display_name": "venv",
   "language": "python",
   "name": "python3"
  },
  "language_info": {
   "codemirror_mode": {
    "name": "ipython",
    "version": 3
   },
   "file_extension": ".py",
   "mimetype": "text/x-python",
   "name": "python",
   "nbconvert_exporter": "python",
   "pygments_lexer": "ipython3",
   "version": "3.12.3"
  }
 },
 "nbformat": 4,
 "nbformat_minor": 5
}
